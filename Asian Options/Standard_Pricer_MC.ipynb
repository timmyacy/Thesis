{
 "cells": [
  {
   "cell_type": "code",
   "id": "initial_id",
   "metadata": {
    "collapsed": true,
    "ExecuteTime": {
     "end_time": "2025-09-08T17:37:01.838071Z",
     "start_time": "2025-09-08T17:37:01.635987Z"
    }
   },
   "source": [
    "import numpy as np\n",
    "import time\n",
    "\n",
    "def asian_call_mc(S0: float, K:float, r:float, sigma:float, T:float, num_steps:float, num_paths:float):\n",
    "    \"\"\"\n",
    "    Prices an Asian call option using a simple Monte Carlo simulation\n",
    "\n",
    "    Parameters:\n",
    "    :param S0: Initial stock price.\n",
    "    :param K: Strike price.\n",
    "    :param r: Risk-free interest rate.\n",
    "    :param sigma: Volatility of the underlying asset.\n",
    "    :param T: Time to maturity in years.\n",
    "    :param num_steps: Number of time steps to discretize the path.\n",
    "    :param num_paths: Number of Monte Carlo simulation paths.\n",
    "\n",
    "    Returns:\n",
    "    tuple: (final_price, standard_error)\n",
    "    \"\"\"\n",
    "    dt = T / num_steps\n",
    "\n",
    "    # Generate random paths for the underlying Brownian motion\n",
    "    Z = np.random.normal(0.0, 1.0, size=(num_paths // 2, num_steps))\n",
    "\n",
    "    # Create Brownian motion increments\n",
    "    dW = np.sqrt(dt) * Z\n",
    "\n",
    "    # Simulate the full stock price paths for both sets of increments\n",
    "    S = np.zeros((num_paths // 2, num_steps + 1))\n",
    "    S[:, 0] = S0\n",
    "\n",
    "    # Loop through time steps to build the paths\n",
    "    for i in range(num_steps):\n",
    "        S[:, i+1] = S[:, i] * np.exp((r - 0.5 * sigma**2) * dt + sigma * dW[:, i])\n",
    "\n",
    "    # Calculate the arithmetic average for each path, use the trapezoidal rule for a more accurate integral approximation\n",
    "    integral = dt * (0.5 * S[:, 0] + np.sum(S[:, 1:-1], axis=1) + 0.5 * S[:, -1])\n",
    "    average_price = integral / T\n",
    "\n",
    "    # Calculate the payoff for each path\n",
    "    payoff = np.maximum(average_price - K, 0)\n",
    "\n",
    "    # Discount the average payoff and calculate statistics\n",
    "    discounted_payoff = np.exp(-r * T) * payoff\n",
    "    final_price = np.mean(discounted_payoff)\n",
    "    standard_error = np.std(discounted_payoff, ddof=1) / np.sqrt(num_paths // 2)\n",
    "\n",
    "    return final_price, standard_error\n",
    "\n",
    "if __name__ == \"__main__\":\n",
    "    S0 = 1\n",
    "    K = 1\n",
    "    r = 0.05\n",
    "    sigma = 0.20\n",
    "    T = 1.0\n",
    "\n",
    "    # Simulation parameters\n",
    "    num_steps = 100\n",
    "    num_paths = 100000\n",
    "\n",
    "    print(\"--- Standard Monte Carlo for Asian Option ---\")\n",
    "    print(f\"Parameters: S0={S0}, K={K}, r={r}, sigma={sigma}, T={T}\")\n",
    "    print(f\"Simulation: {num_paths} paths, {num_steps} steps per path\")\n",
    "\n",
    "    # Calculate the price\n",
    "    price, std_error = asian_call_mc(S0, K, r, sigma, T, num_steps, num_paths)\n",
    "\n",
    "    print(f\"\\nEstimated Price: {price:.6f}\")\n",
    "    print(f\"Standard Error:  {std_error:.6f}\")"
   ],
   "outputs": [
    {
     "name": "stdout",
     "output_type": "stream",
     "text": [
      "--- Standard Monte Carlo for Asian Option ---\n",
      "Parameters: S0=1, K=1, r=0.05, sigma=0.2, T=1.0\n",
      "Simulation: 100000 paths, 100 steps per path\n",
      "\n",
      "Estimated Price: 0.057705\n",
      "Standard Error:  0.000357\n"
     ]
    }
   ],
   "execution_count": 9
  },
  {
   "metadata": {},
   "cell_type": "code",
   "source": "",
   "id": "450a7db097290c27",
   "outputs": [],
   "execution_count": null
  }
 ],
 "metadata": {
  "kernelspec": {
   "display_name": "Python 3",
   "language": "python",
   "name": "python3"
  },
  "language_info": {
   "codemirror_mode": {
    "name": "ipython",
    "version": 2
   },
   "file_extension": ".py",
   "mimetype": "text/x-python",
   "name": "python",
   "nbconvert_exporter": "python",
   "pygments_lexer": "ipython2",
   "version": "2.7.6"
  }
 },
 "nbformat": 4,
 "nbformat_minor": 5
}
